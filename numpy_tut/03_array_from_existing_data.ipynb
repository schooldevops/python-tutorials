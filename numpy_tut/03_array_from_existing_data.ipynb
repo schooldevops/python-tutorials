{
 "cells": [
  {
   "cell_type": "code",
   "execution_count": 1,
   "metadata": {},
   "outputs": [
    {
     "name": "stdout",
     "output_type": "stream",
     "text": [
      "[1 2 3]\n"
     ]
    }
   ],
   "source": [
    "# 파이썬 리스트를 ndarray로 변경하기. \n",
    "import numpy as np \n",
    "x = [1, 2, 3]\n",
    "a = np.asarray(x)\n",
    "print(a)"
   ]
  },
  {
   "cell_type": "code",
   "execution_count": 2,
   "metadata": {},
   "outputs": [
    {
     "name": "stdout",
     "output_type": "stream",
     "text": [
      "[1. 2. 3.]\n"
     ]
    }
   ],
   "source": [
    "# 타입 지정하여 배열생성하기. \n",
    "a = np.asarray(x, dtype = float)\n",
    "print(a)"
   ]
  },
  {
   "cell_type": "code",
   "execution_count": 3,
   "metadata": {},
   "outputs": [
    {
     "name": "stdout",
     "output_type": "stream",
     "text": [
      "[1 2 3]\n"
     ]
    }
   ],
   "source": [
    "# 투플을 배열로 생성하기. \n",
    "x = (1, 2, 3)\n",
    "a = np.asarray(x)\n",
    "print(a)"
   ]
  },
  {
   "cell_type": "code",
   "execution_count": 4,
   "metadata": {},
   "outputs": [
    {
     "name": "stdout",
     "output_type": "stream",
     "text": [
      "[(1, 2, 3) (4, 5)]\n"
     ]
    },
    {
     "name": "stderr",
     "output_type": "stream",
     "text": [
      "/var/folders/7w/k23qswcd04z8925pqjt296rw0000gp/T/ipykernel_89089/2591114892.py:3: VisibleDeprecationWarning: Creating an ndarray from ragged nested sequences (which is a list-or-tuple of lists-or-tuples-or ndarrays with different lengths or shapes) is deprecated. If you meant to do this, you must specify 'dtype=object' when creating the ndarray.\n",
      "  a = np.asarray(x)\n"
     ]
    }
   ],
   "source": [
    "# 튜플의 리스트로 배열 생성하기. \n",
    "x = [(1, 2, 3), (4, 5)]\n",
    "a = np.asarray(x)\n",
    "print(a)"
   ]
  },
  {
   "cell_type": "code",
   "execution_count": 13,
   "metadata": {},
   "outputs": [
    {
     "name": "stdout",
     "output_type": "stream",
     "text": [
      "[0 1 2 3 4]\n"
     ]
    }
   ],
   "source": [
    "# 범위 이용하여 배열 생성 \n",
    "# numpy.arange(start, stop, step, dtype)\n",
    "# start: 시작값, stop: 종료값, step: 증분, dtype: 데이터 타입 \n",
    "import numpy as np\n",
    "x = np.arange(5)\n",
    "print(x)"
   ]
  },
  {
   "cell_type": "code",
   "execution_count": 14,
   "metadata": {},
   "outputs": [
    {
     "name": "stdout",
     "output_type": "stream",
     "text": [
      "[0. 1. 2. 3. 4.]\n"
     ]
    }
   ],
   "source": [
    "x = np.arange(5, dtype = float)\n",
    "print(x)"
   ]
  },
  {
   "cell_type": "code",
   "execution_count": 15,
   "metadata": {},
   "outputs": [
    {
     "name": "stdout",
     "output_type": "stream",
     "text": [
      "[10 12 14 16 18]\n"
     ]
    }
   ],
   "source": [
    "x = np.arange(10, 20, 2)\n",
    "print(x)"
   ]
  },
  {
   "cell_type": "code",
   "execution_count": 16,
   "metadata": {},
   "outputs": [
    {
     "name": "stdout",
     "output_type": "stream",
     "text": [
      "[10.  12.5 15.  17.5 20. ]\n"
     ]
    }
   ],
   "source": [
    "# linspace로 배열 생성하기. \n",
    "# linspace는 arange 함수와 유사, step size 대신에 지정된 범위 사이를 고정 분할로 데이터를 채움 \n",
    "# numpy.linspace(start, stop, num, endpoint, retstep, dtype)\n",
    "# start: 시퀀스의 시작값 \n",
    "# stop:  시퀀스의 종료값, 만약 endpoint가 True로 설정되면 종료값이 포함된다. \n",
    "# num: 생성할 균등 샘플링 수, 기본값은 50이다. \n",
    "# endpoint: 기본값은 True이며, 종료값이 시퀀스에 포함될지 여부이다. 만약 False로 설정하면 종료값은 포함되지 않는다. \n",
    "# retstep: 만약 True로 설정하면 샘플을 반환하고, 연속된 숫자 사이의 단계를 수행한다. \n",
    "# dtype: 데이터 타입 \n",
    "\n",
    "x = np.linspace(10, 20, 5) # 10, 20 사이 값으로 5개의 균등값을 찾아낸다. \n",
    "print(x)"
   ]
  },
  {
   "cell_type": "code",
   "execution_count": 17,
   "metadata": {},
   "outputs": [
    {
     "name": "stdout",
     "output_type": "stream",
     "text": [
      "[10. 12. 14. 16. 18.]\n"
     ]
    }
   ],
   "source": [
    "# endpoint 값이 False인경우 \n",
    "x = np.linspace(10, 20, 5, endpoint = False)\n",
    "print(x)"
   ]
  },
  {
   "cell_type": "code",
   "execution_count": 19,
   "metadata": {},
   "outputs": [
    {
     "name": "stdout",
     "output_type": "stream",
     "text": [
      "(array([1.  , 1.25, 1.5 , 1.75, 2.  ]), 0.25)\n"
     ]
    }
   ],
   "source": [
    "# 다음은 1 ~ 2 사이의 값으로 5개의 균등값을 반환한다. 균등값의 스텝값 역시 반환하며 여기서는 0.25가 된다. \n",
    "x = np.linspace(1, 2, 5, retstep = True)\n",
    "print(x)"
   ]
  },
  {
   "cell_type": "code",
   "execution_count": 20,
   "metadata": {},
   "outputs": [
    {
     "name": "stdout",
     "output_type": "stream",
     "text": [
      "[ 10.          12.91549665  16.68100537  21.5443469   27.82559402\n",
      "  35.93813664  46.41588834  59.94842503  77.42636827 100.        ]\n"
     ]
    }
   ],
   "source": [
    "# numpy.logspace \n",
    "# 배열 값을 생성하며, 이때 균등한 값의 개수를 출력하지만 로그 스케일로 균등값을 출력한다. \n",
    "# numpy.logspace(start, stop, num, endpoint, base, dtype) \n",
    "# start: 시작범위 \n",
    "# stop: 종료범위 \n",
    "# num: 균등값을 추출할 값의 개수 \n",
    "# endpoint: True인경우 종료값 포함, False인경우 종료값 미 포함 \n",
    "# base: 로그 값의 베이스, 기본값은 10이다. \n",
    "# dtype: 데이터 타입 \n",
    "\n",
    "import numpy as np \n",
    "a = np.logspace(1.0, 2.0, num = 10)\n",
    "print(a)"
   ]
  },
  {
   "cell_type": "code",
   "execution_count": 21,
   "metadata": {},
   "outputs": [
    {
     "name": "stdout",
     "output_type": "stream",
     "text": [
      "[   2.    4.    8.   16.   32.   64.  128.  256.  512. 1024.]\n"
     ]
    }
   ],
   "source": [
    "a = np.logspace(1, 10, num = 10, base = 2)\n",
    "print(a)"
   ]
  },
  {
   "cell_type": "code",
   "execution_count": null,
   "metadata": {},
   "outputs": [],
   "source": []
  },
  {
   "cell_type": "code",
   "execution_count": null,
   "metadata": {},
   "outputs": [],
   "source": []
  }
 ],
 "metadata": {
  "interpreter": {
   "hash": "949777d72b0d2535278d3dc13498b2535136f6dfe0678499012e853ee9abcab1"
  },
  "kernelspec": {
   "display_name": "Python 3.9.7 64-bit",
   "language": "python",
   "name": "python3"
  },
  "language_info": {
   "codemirror_mode": {
    "name": "ipython",
    "version": 3
   },
   "file_extension": ".py",
   "mimetype": "text/x-python",
   "name": "python",
   "nbconvert_exporter": "python",
   "pygments_lexer": "ipython3",
   "version": "3.9.7"
  },
  "orig_nbformat": 4
 },
 "nbformat": 4,
 "nbformat_minor": 2
}
