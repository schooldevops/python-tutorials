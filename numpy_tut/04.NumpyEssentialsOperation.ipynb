{
 "cells": [
  {
   "cell_type": "code",
   "execution_count": 2,
   "metadata": {},
   "outputs": [],
   "source": [
    "import numpy as np"
   ]
  },
  {
   "cell_type": "code",
   "execution_count": 3,
   "metadata": {},
   "outputs": [
    {
     "name": "stdout",
     "output_type": "stream",
     "text": [
      "[1 2 3] [9 8 7]\n"
     ]
    }
   ],
   "source": [
    "# 배열 생성\n",
    "arr01 = np.array([1, 2, 3])\n",
    "arr02 = np.array([9, 8, 7])\n",
    "print(arr01, arr02)"
   ]
  },
  {
   "cell_type": "code",
   "execution_count": 6,
   "metadata": {},
   "outputs": [
    {
     "name": "stdout",
     "output_type": "stream",
     "text": [
      "[10 10 10]\n"
     ]
    }
   ],
   "source": [
    "## 덧셈 연산 \n",
    "arr_sum = arr01 + arr02\n",
    "print(arr_sum)"
   ]
  },
  {
   "cell_type": "code",
   "execution_count": 7,
   "metadata": {},
   "outputs": [
    {
     "name": "stdout",
     "output_type": "stream",
     "text": [
      "[8 6 4]\n"
     ]
    }
   ],
   "source": [
    "## 뺄셈 연산 \n",
    "arr_sub = arr02 - arr01\n",
    "print(arr_sub)"
   ]
  },
  {
   "cell_type": "code",
   "execution_count": 8,
   "metadata": {},
   "outputs": [
    {
     "name": "stdout",
     "output_type": "stream",
     "text": [
      "[ 9 16 21]\n"
     ]
    }
   ],
   "source": [
    "## 곱셈 연산 \n",
    "arr_mul = arr01 * arr02\n",
    "print(arr_mul)"
   ]
  },
  {
   "cell_type": "code",
   "execution_count": 9,
   "metadata": {},
   "outputs": [
    {
     "name": "stdout",
     "output_type": "stream",
     "text": [
      "[0.11111111 0.25       0.42857143]\n"
     ]
    }
   ],
   "source": [
    "## 나숫셈 연산 \n",
    "arr_div = arr01 / arr02\n",
    "print(arr_div)"
   ]
  },
  {
   "cell_type": "code",
   "execution_count": 11,
   "metadata": {},
   "outputs": [
    {
     "name": "stdout",
     "output_type": "stream",
     "text": [
      "[0 0 1]\n"
     ]
    }
   ],
   "source": [
    "## mod 연산 \n",
    "arr_mod = arr02 % arr01\n",
    "print(arr_mod)"
   ]
  },
  {
   "cell_type": "code",
   "execution_count": 6,
   "metadata": {},
   "outputs": [
    {
     "name": "stdout",
     "output_type": "stream",
     "text": [
      "[10 20 30]\n"
     ]
    }
   ],
   "source": [
    "# Sclar 연산 \n",
    "arr_sclar = arr01 * 10\n",
    "print(arr_sclar)"
   ]
  },
  {
   "cell_type": "code",
   "execution_count": 7,
   "metadata": {},
   "outputs": [
    {
     "name": "stdout",
     "output_type": "stream",
     "text": [
      "46\n"
     ]
    }
   ],
   "source": [
    "# 1차원 배열의 행열 연산 \n",
    "dot_prod_1d = np.dot(arr01, arr02)\n",
    "print(dot_prod_1d)"
   ]
  },
  {
   "cell_type": "code",
   "execution_count": 9,
   "metadata": {},
   "outputs": [
    {
     "name": "stdout",
     "output_type": "stream",
     "text": [
      "[[1 2 3]\n",
      " [4 5 6]]\n",
      "[[1 1]\n",
      " [2 2]\n",
      " [3 3]]\n",
      "[[14 14]\n",
      " [32 32]]\n"
     ]
    }
   ],
   "source": [
    "# 2차원 배열의 dot product \n",
    "arr2d01 = np.array([[1, 2, 3], [4, 5, 6]])\n",
    "print(arr2d01)\n",
    "\n",
    "arr2d02 = np.array([[1, 1], [2, 2], [3, 3]])\n",
    "print(arr2d02)\n",
    "\n",
    "dot_prod_2d = np.dot(arr2d01, arr2d02)\n",
    "print(dot_prod_2d)"
   ]
  },
  {
   "cell_type": "code",
   "execution_count": 6,
   "metadata": {},
   "outputs": [
    {
     "name": "stdout",
     "output_type": "stream",
     "text": [
      "[10 10 10]\n",
      "[8 6 4]\n",
      "[ 9 16 21]\n",
      "[9.         4.         2.33333333]\n",
      "[1 2 3]\n"
     ]
    }
   ],
   "source": [
    "# np.add\n",
    "print(np.add(arr01, arr02))\n",
    "\n",
    "# np.subtract\n",
    "print(np.subtract(arr02, arr01))\n",
    "\n",
    "# np.multiply\n",
    "print(np.multiply(arr01, arr02))\n",
    "\n",
    "# np.divide\n",
    "print(np.divide(arr02, arr01))\n",
    "\n",
    "# np.mod\n",
    "print(np.mod(arr01, arr02))"
   ]
  },
  {
   "cell_type": "code",
   "execution_count": null,
   "metadata": {},
   "outputs": [],
   "source": []
  },
  {
   "cell_type": "code",
   "execution_count": null,
   "metadata": {},
   "outputs": [],
   "source": []
  },
  {
   "cell_type": "code",
   "execution_count": null,
   "metadata": {},
   "outputs": [],
   "source": []
  },
  {
   "cell_type": "code",
   "execution_count": null,
   "metadata": {},
   "outputs": [],
   "source": []
  },
  {
   "cell_type": "code",
   "execution_count": null,
   "metadata": {},
   "outputs": [],
   "source": []
  },
  {
   "cell_type": "code",
   "execution_count": null,
   "metadata": {},
   "outputs": [],
   "source": []
  },
  {
   "cell_type": "code",
   "execution_count": null,
   "metadata": {},
   "outputs": [],
   "source": []
  },
  {
   "cell_type": "code",
   "execution_count": null,
   "metadata": {},
   "outputs": [],
   "source": []
  }
 ],
 "metadata": {
  "interpreter": {
   "hash": "949777d72b0d2535278d3dc13498b2535136f6dfe0678499012e853ee9abcab1"
  },
  "kernelspec": {
   "display_name": "Python 3.9.7 64-bit",
   "language": "python",
   "name": "python3"
  },
  "language_info": {
   "codemirror_mode": {
    "name": "ipython",
    "version": 3
   },
   "file_extension": ".py",
   "mimetype": "text/x-python",
   "name": "python",
   "nbconvert_exporter": "python",
   "pygments_lexer": "ipython3",
   "version": "3.9.7"
  },
  "orig_nbformat": 4
 },
 "nbformat": 4,
 "nbformat_minor": 2
}
